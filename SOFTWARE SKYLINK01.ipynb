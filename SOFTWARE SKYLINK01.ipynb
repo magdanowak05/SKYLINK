{
 "cells": [
  {
   "cell_type": "markdown",
   "id": "02eeb398",
   "metadata": {},
   "source": [
    "SOFTWARE ODBIÓR OBRAZÓW Z BALONU STRATOSFERYCZNEGO - RASPBERRY PI"
   ]
  },
  {
   "cell_type": "markdown",
   "id": "90e7f173",
   "metadata": {},
   "source": [
    "- odbieramy zdjęcia w jpg, jakość HD\n",
    "- napisz klasę - pobiera zdjęcie -> otwórzPlik(nazwa)\n",
    "  PodajKolejne58Bajtów()\n",
    "  PodajSumęKontrolnąPliku()\n",
    "  ZamknijPlik()\n",
    "  ~destruktor\n",
    "\n",
    "- Ogólnie chodzi o to, że pobieramy zdjęcie i \"dzielimy je\" jakby na \"paczki\" po 58 bajtów - dlatego nie pobieramy od razu całości, tylko dzielimy bajt po bajcie (jak w C).\n",
    "\n",
    "- Dane są wysyłane UARTEM z Raspberry Pi, odbieramy LoRą"
   ]
  },
  {
   "cell_type": "markdown",
   "id": "3b06938c",
   "metadata": {},
   "source": [
    "Druga wersja :\n",
    "- pobieramy cały obiekt/całe zdjęcie, np. jako tablicę, to już wybrana biblioteka podpowie jak, i reszta jak wyżej\n",
    "- tylko kompresujemy to zdjęcie -> potrzebna będzie funkcja, która jako argument przyjmie stopień kompresji, a samą kompresję przechowuje jako zmienną\n",
    "- wtedy podaj58bajtów podaje kolejne fragmenty iteratorem"
   ]
  },
  {
   "cell_type": "code",
   "execution_count": null,
   "id": "a60ddb75",
   "metadata": {},
   "outputs": [],
   "source": [
    "import serial\n",
    "class OtwórzUART:\n",
    "    def _init_(self, portRaspberry, predkoscTransmisji) # jeszcze ile czasu czekamy na transmisję?\n",
    "    self.uart = serial.Serial(portRaspberry, predkoscTransmisji) # otwiera połączenie UART i zapisuje go w zmiennej self.uart\n",
    "\n",
    "    def OdbiórDanych(self, maksbajtowWpaczce = 58):\n",
    "        dane = b'' # jeśli się to wyświetli, to znaczy, że nie odebrano danych z UARTu -> zwróci się pusta paczka\n",
    "        while True:\n",
    "        paczka = self.uart.read(maksbajtowWpaczce)\n",
    "            if not paczka:\n",
    "                print(\"Brak danych – koniec odbioru.\")\n",
    "                break # jeśli nie ma danych, przerywa pętlę\n",
    "            dane += paczka\n",
    "            print(f\"Odebrało paczkę: {len(paczka)} bajtów, łącznie: {len(dane)}\")\n",
    "        print(f\"Łącznie odebrało: {len(dane)} bajtów\") # wyprintujmy, czemu nie\n",
    "\n",
    "        return dane\n",
    "\n",
    "    def zamknij(self):\n",
    "        self.uart.close()"
   ]
  },
  {
   "cell_type": "markdown",
   "id": "a2f1ce8d",
   "metadata": {},
   "source": [
    "⤴️ funkcja, która otwiera potok UART, pobiera dane w paczkach po 58 bajtów, zapisuje do pliku i zamyka"
   ]
  },
  {
   "cell_type": "markdown",
   "id": "29a56033",
   "metadata": {},
   "source": [
    "⤵️ użycie klasy - wywołanie programu"
   ]
  },
  {
   "cell_type": "code",
   "execution_count": null,
   "id": "7a982b67",
   "metadata": {},
   "outputs": [],
   "source": [
    "odbiornik = OtwórzUART() # obiekt klasy OtwórzUART\n",
    "\n",
    "try:\n",
    "    dane = odbiornik.OdbiórDanych()\n",
    "finally:\n",
    "    odbiornik.zamknij()\n"
   ]
  }
 ],
 "metadata": {
  "language_info": {
   "name": "python"
  }
 },
 "nbformat": 4,
 "nbformat_minor": 5
}
